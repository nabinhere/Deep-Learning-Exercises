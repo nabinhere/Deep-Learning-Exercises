{
 "cells": [
  {
   "cell_type": "code",
   "execution_count": 9,
   "id": "da956a0c-9734-4757-b135-c95eeaa8a13c",
   "metadata": {},
   "outputs": [],
   "source": [
    "import math \n",
    "\n",
    "def basic_sigmoid(x):\n",
    "    return (1/(1+math.exp(-x)))"
   ]
  },
  {
   "cell_type": "code",
   "execution_count": 10,
   "id": "7ce46e1e-458b-4cba-944d-ff6f7b646f54",
   "metadata": {},
   "outputs": [
    {
     "name": "stdout",
     "output_type": "stream",
     "text": [
      "sigmoid(1) = 0.7310585786300049\n"
     ]
    }
   ],
   "source": [
    "print(f\"sigmoid(1) = {basic_sigmoid(1)}\")"
   ]
  },
  {
   "cell_type": "code",
   "execution_count": 11,
   "id": "2f2583b8-47db-4b98-a9f9-f28bcb76326e",
   "metadata": {},
   "outputs": [
    {
     "ename": "NameError",
     "evalue": "name 'sigmoid' is not defined",
     "output_type": "error",
     "traceback": [
      "\u001b[1;31m---------------------------------------------------------------------------\u001b[0m",
      "\u001b[1;31mNameError\u001b[0m                                 Traceback (most recent call last)",
      "Cell \u001b[1;32mIn[11], line 3\u001b[0m\n\u001b[0;32m      1\u001b[0m \u001b[38;5;66;03m# this will generate an error\u001b[39;00m\n\u001b[0;32m      2\u001b[0m x \u001b[38;5;241m=\u001b[39m [\u001b[38;5;241m1\u001b[39m,\u001b[38;5;241m2\u001b[39m,\u001b[38;5;241m3\u001b[39m] \u001b[38;5;66;03m#here x is a vector\u001b[39;00m\n\u001b[1;32m----> 3\u001b[0m \u001b[43msigmoid\u001b[49m(x)\n",
      "\u001b[1;31mNameError\u001b[0m: name 'sigmoid' is not defined"
     ]
    }
   ],
   "source": [
    "# this will generate an error\n",
    "x = [1,2,3] #here x is a vector\n",
    "sigmoid(x)"
   ]
  },
  {
   "cell_type": "code",
   "execution_count": 12,
   "id": "2f976dff-a1d8-4e2b-aba9-8155ea39b057",
   "metadata": {},
   "outputs": [
    {
     "name": "stdout",
     "output_type": "stream",
     "text": [
      "[ 2.71828183  7.3890561  20.08553692]\n",
      "[4 5 6]\n"
     ]
    }
   ],
   "source": [
    "# numpy can easily handle this\n",
    "import numpy as np\n",
    "x = np.array([1,2,3])\n",
    "print(np.exp(x))\n",
    "x = x+3  #it does elementwise addition\n",
    "print(x)"
   ]
  },
  {
   "cell_type": "markdown",
   "id": "8dd55af7",
   "metadata": {},
   "source": [
    "<h3>Sigmoid using numpy</h3>"
   ]
  },
  {
   "cell_type": "code",
   "execution_count": 13,
   "id": "b425750a",
   "metadata": {},
   "outputs": [],
   "source": [
    "def sigmoid_np(x):\n",
    "    x = np.array(x)\n",
    "    sigma_x = 1/(1+np.exp(-x))\n",
    "    return sigma_x"
   ]
  },
  {
   "cell_type": "code",
   "execution_count": 14,
   "id": "c5f4226a",
   "metadata": {},
   "outputs": [
    {
     "name": "stdout",
     "output_type": "stream",
     "text": [
      "numpy sigmoid of 1 =  0.7310585786300049\n"
     ]
    }
   ],
   "source": [
    "x = 1\n",
    "print(\"numpy sigmoid of 1 = \", sigmoid_np(x))"
   ]
  },
  {
   "cell_type": "code",
   "execution_count": 15,
   "id": "b96036f4",
   "metadata": {},
   "outputs": [
    {
     "name": "stdout",
     "output_type": "stream",
     "text": [
      "numpy sigmoid of [1,2,3] =  [0.73105858 0.88079708 0.95257413]\n",
      "None\n"
     ]
    }
   ],
   "source": [
    "x = [1, 2, 3]\n",
    "print(print(\"numpy sigmoid of [1,2,3] = \", sigmoid_np(x)))"
   ]
  },
  {
   "cell_type": "markdown",
   "id": "551d0ccb",
   "metadata": {},
   "source": [
    "<h3>Sigmoid derivative</h3>"
   ]
  },
  {
   "cell_type": "code",
   "execution_count": 16,
   "id": "653853ef",
   "metadata": {},
   "outputs": [],
   "source": [
    "def sigmoid_derivative(x):\n",
    "    s = sigmoid_np(x)\n",
    "    ds = s*(1-s)\n",
    "    return ds"
   ]
  },
  {
   "cell_type": "code",
   "execution_count": 17,
   "id": "f99077cb",
   "metadata": {},
   "outputs": [
    {
     "name": "stdout",
     "output_type": "stream",
     "text": [
      "sigmoid derivative of 5 = 0.006648056670790033\n",
      "sigmoid derivative of [1,2,3] = [0.19661193 0.10499359 0.04517666]\n"
     ]
    }
   ],
   "source": [
    "x = 5\n",
    "print(f\"sigmoid derivative of 5 = {sigmoid_derivative(x)}\")\n",
    "x = [1,2,3]\n",
    "print(f\"sigmoid derivative of [1,2,3] = {sigmoid_derivative(x)}\")"
   ]
  },
  {
   "cell_type": "code",
   "execution_count": 18,
   "id": "aa141bc4",
   "metadata": {},
   "outputs": [
    {
     "name": "stdout",
     "output_type": "stream",
     "text": [
      "(3, 1)\n",
      "(1, 3)\n"
     ]
    }
   ],
   "source": [
    "x = np.array([[1],[2],[3]])\n",
    "print(x.shape)\n",
    "y = np.array([[1,2,3]])\n",
    "print(y.shape)"
   ]
  },
  {
   "cell_type": "code",
   "execution_count": 19,
   "id": "81ef30a1",
   "metadata": {},
   "outputs": [
    {
     "data": {
      "text/plain": [
       "array([[1],\n",
       "       [2],\n",
       "       [3]])"
      ]
     },
     "execution_count": 19,
     "metadata": {},
     "output_type": "execute_result"
    }
   ],
   "source": [
    "y.reshape(3,1)"
   ]
  },
  {
   "cell_type": "code",
   "execution_count": 42,
   "id": "3730aa8b",
   "metadata": {},
   "outputs": [],
   "source": [
    "# image to vector\n",
    "def image2vector(image):\n",
    "    v = image.reshape(image.shape[0]*image.shape[1]*image.shape[2],1)\n",
    "    return v"
   ]
  },
  {
   "cell_type": "code",
   "execution_count": 43,
   "id": "cf1be85c",
   "metadata": {},
   "outputs": [
    {
     "name": "stdout",
     "output_type": "stream",
     "text": [
      "image2vector(image) = [[0.67826139]\n",
      " [0.29380381]\n",
      " [0.90714982]\n",
      " [0.52835647]\n",
      " [0.4215251 ]\n",
      " [0.45017551]\n",
      " [0.92814219]\n",
      " [0.96677647]\n",
      " [0.85304703]\n",
      " [0.52351845]\n",
      " [0.19981397]\n",
      " [0.27417313]\n",
      " [0.60659855]\n",
      " [0.00533165]\n",
      " [0.10820313]\n",
      " [0.49978937]\n",
      " [0.34144279]\n",
      " [0.94630077]]\n"
     ]
    }
   ],
   "source": [
    "# This is a 3 by 3 by 2 array, typically images will be (num_px_x, num_px_y,3) where 3 represents the RGB values\n",
    "t_image = np.array([[[ 0.67826139,  0.29380381],\n",
    "                     [ 0.90714982,  0.52835647],\n",
    "                     [ 0.4215251 ,  0.45017551]],\n",
    "\n",
    "                   [[ 0.92814219,  0.96677647],\n",
    "                    [ 0.85304703,  0.52351845],\n",
    "                    [ 0.19981397,  0.27417313]],\n",
    "\n",
    "                   [[ 0.60659855,  0.00533165],\n",
    "                    [ 0.10820313,  0.49978937],\n",
    "                    [ 0.34144279,  0.94630077]]])\n",
    "\n",
    "print (\"image2vector(image) = \" + str(image2vector(t_image)))"
   ]
  },
  {
   "cell_type": "markdown",
   "id": "ce81f074-9117-459b-8e23-60c38500ff33",
   "metadata": {},
   "source": [
    "<h3>Normalization</h3>"
   ]
  },
  {
   "cell_type": "code",
   "execution_count": 55,
   "id": "bf241735-a2f5-4e2f-990a-44743e13eec3",
   "metadata": {},
   "outputs": [],
   "source": [
    "def normalizeRows(x):\n",
    "    norm_x = np.linalg.norm(x, axis=1, ord=2, keepdims = True)\n",
    "    x_normalized = x/norm_x\n",
    "    print(x.shape)\n",
    "    print(norm_x.shape)\n",
    "    return x_normalized"
   ]
  },
  {
   "cell_type": "code",
   "execution_count": 56,
   "id": "e1942aa7-aecc-4300-bdf7-0d9f153de11a",
   "metadata": {},
   "outputs": [
    {
     "name": "stdout",
     "output_type": "stream",
     "text": [
      "(2, 3)\n",
      "(2, 1)\n",
      "normalizeRows(x) = [[0.         0.6        0.8       ]\n",
      " [0.13736056 0.82416338 0.54944226]]\n"
     ]
    }
   ],
   "source": [
    "x = np.array([[0., 3., 4.],\n",
    "              [1., 6., 4.]])\n",
    "print(\"normalizeRows(x) = \" + str(normalizeRows(x)))\n"
   ]
  },
  {
   "cell_type": "markdown",
   "id": "b662f5dd-8e85-4c35-9301-1995541afe75",
   "metadata": {},
   "source": [
    "<h3>Softmax</h3>"
   ]
  },
  {
   "cell_type": "code",
   "execution_count": 60,
   "id": "80687caf-d80b-4158-b558-457c67f26580",
   "metadata": {},
   "outputs": [],
   "source": [
    "def softmax(x):\n",
    "    exp_x = np.exp(x)\n",
    "    sum_exp_x = np.sum(exp_x, axis = 1, keepdims = True)\n",
    "    soft_x = exp_x/sum_exp_x\n",
    "    return soft_x"
   ]
  },
  {
   "cell_type": "code",
   "execution_count": 61,
   "id": "ed8096cb-c542-4448-8abb-f930325dc0db",
   "metadata": {},
   "outputs": [
    {
     "name": "stdout",
     "output_type": "stream",
     "text": [
      "softmax(x) = [[9.80897665e-01 8.94462891e-04 1.79657674e-02 1.21052389e-04\n",
      "  1.21052389e-04]\n",
      " [8.78679856e-01 1.18916387e-01 8.01252314e-04 8.01252314e-04\n",
      "  8.01252314e-04]]\n"
     ]
    }
   ],
   "source": [
    "t_x = np.array([[9, 2, 5, 0, 0],\n",
    "                [7, 5, 0, 0 ,0]])\n",
    "print(\"softmax(x) = \" + str(softmax(t_x)))\n"
   ]
  },
  {
   "cell_type": "markdown",
   "id": "63df22ee-a1a6-4380-aafe-f3184c168968",
   "metadata": {},
   "source": [
    "<h3>Vectorization</h3>"
   ]
  },
  {
   "cell_type": "code",
   "execution_count": 77,
   "id": "8d79a60c-2294-4ef5-9237-887746ae1f09",
   "metadata": {},
   "outputs": [
    {
     "name": "stdout",
     "output_type": "stream",
     "text": [
      "dot = 253.20929513224306, computation time = 0.0 ms\n",
      "outer product computation time on 1M dimensional vectors = 171.875 ms\n"
     ]
    }
   ],
   "source": [
    "import time\n",
    "# x1 = [9, 2, 5, 0, 0, 7, 5, 0, 0, 0, 9, 2, 5, 0, 0]\n",
    "# x2 = [9, 2, 2, 9, 0, 9, 2, 5, 0, 0, 9, 2, 5, 0, 0]\n",
    "x1 = np.random.rand(1000)\n",
    "x2 = np.random.rand(1000)\n",
    "\n",
    "# classic vector product implementation\n",
    "tic = time.process_time()\n",
    "dot = 0\n",
    "for i in range(len(x1)):\n",
    "    dot = dot+x1[i]*x2[i]\n",
    "toc = time.process_time()\n",
    "print(f\"dot = {dot}, computation time = {1000*(toc-tic)} ms\")\n",
    "\n",
    "# classic outer product implementation\n",
    "tic = time.process_time()\n",
    "outer = np.zeros((len(x1), len(x2)))\n",
    "for i in range(len(x1)):\n",
    "    for j in range(len(x2)):\n",
    "        outer[i,j] = x1[i]*x2[j]\n",
    "toc = time.process_time()\n",
    "print(f\"outer product computation time on 1M dimensional vectors = {1000*(toc-tic)} ms\")"
   ]
  },
  {
   "cell_type": "code",
   "execution_count": 80,
   "id": "3c6b3a34-8513-4ac2-816d-3f8751c326cf",
   "metadata": {},
   "outputs": [
    {
     "name": "stdout",
     "output_type": "stream",
     "text": [
      "dot = 250495.9918278531, normal computation time = 281.25 ms\n",
      "dot = 250495.9918278447, vectorized computation time = 0.0 ms\n",
      "dot = 250495.9918278447, vectorized computation time = 0.0 ms\n"
     ]
    }
   ],
   "source": [
    "x1 = np.random.rand(1000000)\n",
    "x2 = np.random.rand(1000000)\n",
    "# classic vector product implementation\n",
    "tic = time.process_time()\n",
    "dot = 0\n",
    "for i in range(len(x1)):\n",
    "    dot = dot+x1[i]*x2[i]\n",
    "toc = time.process_time()\n",
    "print(f\"dot = {dot}, normal computation time = {1000*(toc-tic)} ms\")\n",
    "\n",
    "# vectorized product of vectors\n",
    "tic = time.process_time()\n",
    "dot = np.dot(x1,x2)\n",
    "toc = time.process_time()\n",
    "print(f\"dot = {dot}, vectorized computation time = {1000*(toc-tic)} ms\")\n",
    "\n",
    "x1 = np.random.rand(1000)\n",
    "x2 = np.random.rand(1000)\n",
    "# vectorized outer product\n",
    "outer = np.outer(x1,x2)\n",
    "toc = time.process_time()\n",
    "print(f\"vectorized outer product computation time = {1000*(toc-tic)} ms\")"
   ]
  },
  {
   "cell_type": "markdown",
   "id": "a969f733-2bfb-4cb7-b2bc-994df60870f7",
   "metadata": {},
   "source": [
    "<h3>L1 and L2 loss functions</h3>"
   ]
  },
  {
   "cell_type": "code",
   "execution_count": 82,
   "id": "f2dce3b1-654a-49f6-b4da-34bb4275d2fc",
   "metadata": {},
   "outputs": [
    {
     "name": "stdout",
     "output_type": "stream",
     "text": [
      "L1 = 1.1\n"
     ]
    }
   ],
   "source": [
    "# L1 loss\n",
    "def L1(yhat, y):\n",
    "    loss = np.sum(abs(y-yhat))\n",
    "    return loss\n",
    "yhat = np.array([.9, 0.2, 0.1, .4, .9])\n",
    "y = np.array([1, 0, 0, 1, 1])\n",
    "print(\"L1 = \" + str(L1(yhat, y)))\n"
   ]
  },
  {
   "cell_type": "code",
   "execution_count": 84,
   "id": "559fb5d4-8f99-4276-9e17-9749cdc849c4",
   "metadata": {},
   "outputs": [
    {
     "name": "stdout",
     "output_type": "stream",
     "text": [
      "L2 = 0.43\n"
     ]
    }
   ],
   "source": [
    "# L2 loss\n",
    "def L2(yhat, y):\n",
    "    loss = np.dot((y-yhat), (y-yhat))\n",
    "    return loss\n",
    "\n",
    "yhat = np.array([.9, 0.2, 0.1, .4, .9])\n",
    "y = np.array([1, 0, 0, 1, 1])\n",
    "\n",
    "print(\"L2 = \" + str(L2(yhat, y)))"
   ]
  },
  {
   "cell_type": "code",
   "execution_count": null,
   "id": "c213f249-447d-469f-8e7f-50184e27e3fd",
   "metadata": {},
   "outputs": [],
   "source": []
  }
 ],
 "metadata": {
  "kernelspec": {
   "display_name": "Python 3 (ipykernel)",
   "language": "python",
   "name": "python3"
  },
  "language_info": {
   "codemirror_mode": {
    "name": "ipython",
    "version": 3
   },
   "file_extension": ".py",
   "mimetype": "text/x-python",
   "name": "python",
   "nbconvert_exporter": "python",
   "pygments_lexer": "ipython3",
   "version": "3.12.1"
  }
 },
 "nbformat": 4,
 "nbformat_minor": 5
}
