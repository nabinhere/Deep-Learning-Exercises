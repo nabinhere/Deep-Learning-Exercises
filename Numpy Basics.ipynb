{
 "cells": [
  {
   "cell_type": "code",
   "execution_count": 4,
   "id": "da956a0c-9734-4757-b135-c95eeaa8a13c",
   "metadata": {},
   "outputs": [],
   "source": [
    "import math \n",
    "\n",
    "def sigmoid(x):\n",
    "    return (1/(1+math.exp(-x)))"
   ]
  },
  {
   "cell_type": "code",
   "execution_count": 5,
   "id": "7ce46e1e-458b-4cba-944d-ff6f7b646f54",
   "metadata": {},
   "outputs": [
    {
     "name": "stdout",
     "output_type": "stream",
     "text": [
      "sigmoid(1) = 0.7310585786300049\n"
     ]
    }
   ],
   "source": [
    "print(f\"sigmoid(1) = {sigmoid(1)}\")"
   ]
  },
  {
   "cell_type": "code",
   "execution_count": 6,
   "id": "2f2583b8-47db-4b98-a9f9-f28bcb76326e",
   "metadata": {},
   "outputs": [
    {
     "ename": "TypeError",
     "evalue": "bad operand type for unary -: 'list'",
     "output_type": "error",
     "traceback": [
      "\u001b[1;31m---------------------------------------------------------------------------\u001b[0m",
      "\u001b[1;31mTypeError\u001b[0m                                 Traceback (most recent call last)",
      "Cell \u001b[1;32mIn[6], line 3\u001b[0m\n\u001b[0;32m      1\u001b[0m \u001b[38;5;66;03m# this will generate an error\u001b[39;00m\n\u001b[0;32m      2\u001b[0m x \u001b[38;5;241m=\u001b[39m [\u001b[38;5;241m1\u001b[39m,\u001b[38;5;241m2\u001b[39m,\u001b[38;5;241m3\u001b[39m] \u001b[38;5;66;03m#here x is a vector\u001b[39;00m\n\u001b[1;32m----> 3\u001b[0m \u001b[43msigmoid\u001b[49m\u001b[43m(\u001b[49m\u001b[43mx\u001b[49m\u001b[43m)\u001b[49m\n",
      "Cell \u001b[1;32mIn[4], line 4\u001b[0m, in \u001b[0;36msigmoid\u001b[1;34m(x)\u001b[0m\n\u001b[0;32m      3\u001b[0m \u001b[38;5;28;01mdef\u001b[39;00m \u001b[38;5;21msigmoid\u001b[39m(x):\n\u001b[1;32m----> 4\u001b[0m     \u001b[38;5;28;01mreturn\u001b[39;00m (\u001b[38;5;241m1\u001b[39m\u001b[38;5;241m/\u001b[39m(\u001b[38;5;241m1\u001b[39m\u001b[38;5;241m+\u001b[39mmath\u001b[38;5;241m.\u001b[39mexp(\u001b[38;5;241;43m-\u001b[39;49m\u001b[43mx\u001b[49m)))\n",
      "\u001b[1;31mTypeError\u001b[0m: bad operand type for unary -: 'list'"
     ]
    }
   ],
   "source": [
    "# this will generate an error\n",
    "x = [1,2,3] #here x is a vector\n",
    "sigmoid(x)"
   ]
  },
  {
   "cell_type": "code",
   "execution_count": 7,
   "id": "2f976dff-a1d8-4e2b-aba9-8155ea39b057",
   "metadata": {},
   "outputs": [
    {
     "name": "stdout",
     "output_type": "stream",
     "text": [
      "[ 2.71828183  7.3890561  20.08553692]\n",
      "[4 5 6]\n"
     ]
    }
   ],
   "source": [
    "# numpy can easily handle this\n",
    "import numpy as np\n",
    "x = np.array([1,2,3])\n",
    "print(np.exp(x))\n",
    "x = x+3  #it does elementwise addition\n",
    "print(x)"
   ]
  },
  {
   "cell_type": "code",
   "execution_count": 8,
   "id": "30d2d9ed-a039-4884-bddc-af2142dd2188",
   "metadata": {},
   "outputs": [],
   "source": [
    "def sigmoid_np(x):\n",
    "    return (1/(1+np.exp(-x)))"
   ]
  },
  {
   "cell_type": "code",
   "execution_count": 9,
   "id": "0e3f30b7-1df7-4625-8fef-43a68d22fa1e",
   "metadata": {},
   "outputs": [
    {
     "name": "stdout",
     "output_type": "stream",
     "text": [
      "sigmoid of array =  [0.73105858 0.88079708 0.95257413]\n"
     ]
    }
   ],
   "source": [
    "np_arr =  np.array([1,2,3])\n",
    "print(\"sigmoid of array = \", sigmoid_np(np_arr))"
   ]
  },
  {
   "cell_type": "code",
   "execution_count": 10,
   "id": "ed0d65c7-77b9-4ea8-a089-90b8e6488143",
   "metadata": {},
   "outputs": [],
   "source": [
    "def sigmoid_derivative(x):\n",
    "    s = sigmoid_np(x)\n",
    "    return s*(1-s)"
   ]
  },
  {
   "cell_type": "code",
   "execution_count": 11,
   "id": "a04e5ad8-a3a6-4314-8f65-027ddadf3a47",
   "metadata": {},
   "outputs": [
    {
     "data": {
      "text/plain": [
       "array([0.19661193, 0.10499359, 0.04517666])"
      ]
     },
     "execution_count": 11,
     "metadata": {},
     "output_type": "execute_result"
    }
   ],
   "source": [
    "sigmoid_derivative(np.array([1,2,3]))"
   ]
  },
  {
   "cell_type": "code",
   "execution_count": 12,
   "id": "3dc26b23-5136-4c7e-ae7a-f66bf40d20dd",
   "metadata": {},
   "outputs": [],
   "source": [
    "def image2vector(image):\n",
    "    v = image.reshape(image.shape[0]*image.shape[1]*image.shape[2], 1)\n",
    "    return v"
   ]
  },
  {
   "cell_type": "code",
   "execution_count": 13,
   "id": "78e12e28-e56e-4f50-83cb-309966ee5ffe",
   "metadata": {},
   "outputs": [
    {
     "name": "stdout",
     "output_type": "stream",
     "text": [
      "Image to vector: [[0.67826139]\n",
      " [0.29380381]\n",
      " [0.90714982]\n",
      " [0.52835647]\n",
      " [0.4215251 ]\n",
      " [0.45017551]\n",
      " [0.92814219]\n",
      " [0.96677647]\n",
      " [0.85304703]\n",
      " [0.52351845]\n",
      " [0.19981397]\n",
      " [0.27417313]\n",
      " [0.60659855]\n",
      " [0.00533165]\n",
      " [0.10820313]\n",
      " [0.49978937]\n",
      " [0.34144279]\n",
      " [0.94630077]]\n"
     ]
    }
   ],
   "source": [
    "t_image = np.array([[[ 0.67826139,  0.29380381],\n",
    "                     [ 0.90714982,  0.52835647],\n",
    "                     [ 0.4215251 ,  0.45017551]],\n",
    "\n",
    "                   [[ 0.92814219,  0.96677647],\n",
    "                    [ 0.85304703,  0.52351845],\n",
    "                    [ 0.19981397,  0.27417313]],\n",
    "\n",
    "                   [[ 0.60659855,  0.00533165],\n",
    "                    [ 0.10820313,  0.49978937],\n",
    "                    [ 0.34144279,  0.94630077]]])\n",
    "\n",
    "print(f\"Image to vector: {image2vector(t_image)}\")"
   ]
  },
  {
   "cell_type": "code",
   "execution_count": 16,
   "id": "82df7aa5-cbb4-49e3-9840-9877057aa4ff",
   "metadata": {},
   "outputs": [],
   "source": [
    "def normalize_rows(x):\n",
    "    x_norm = np.linalg.norm(x,axis=1, keepdims=True)\n",
    "    x = x/x_norm\n",
    "    print(f\"shape of x: {x.shape} \\n Shape of x_norm: {x_norm.shape}\")\n",
    "    return x\n",
    "    "
   ]
  },
  {
   "cell_type": "code",
   "execution_count": 17,
   "id": "2393acf6-8744-41af-9faf-b75bf0e45e4f",
   "metadata": {},
   "outputs": [
    {
     "name": "stdout",
     "output_type": "stream",
     "text": [
      "shape of x: (2, 3) \n",
      " Shape of x_norm: (2, 1)\n",
      "normalized rows(x) = [[0.         0.6        0.8       ]\n",
      " [0.13736056 0.82416338 0.54944226]]\n"
     ]
    }
   ],
   "source": [
    "x = np.array([[0., 3., 4.],\n",
    "              [1., 6., 4.]])\n",
    "print(f\"normalized rows(x) = {normalize_rows(x)}\")"
   ]
  },
  {
   "cell_type": "markdown",
   "id": "5d5949e9-ddab-42df-bcb7-c1e5c2977e09",
   "metadata": {},
   "source": [
    "<h3>Softmax using for loops</h3>"
   ]
  },
  {
   "cell_type": "code",
   "execution_count": 27,
   "id": "e566c13b-d65a-4ce8-ab6c-7bbebb0df673",
   "metadata": {},
   "outputs": [],
   "source": [
    "def softmax1(x):\n",
    "    soft_x = np.zeros((x.shape[0],x.shape[1]))\n",
    "    sum_rows = np.zeros((x.shape[1], 1))\n",
    "    for i in range(x.shape[0]):\n",
    "        for j in range(x.shape[1]):\n",
    "            sum_rows[i][0] = sum_rows[i][0]+ np.exp(x[i][j])\n",
    "        \n",
    "    for i in range(x.shape[0]):\n",
    "        for j in range(x.shape[1]):\n",
    "            soft_x[i][j] = np.exp(x[i][j])/sum_rows[i]\n",
    "    return soft_x"
   ]
  },
  {
   "cell_type": "markdown",
   "id": "866aeb4a-c5fb-4040-a1bd-c3c9289bb5c8",
   "metadata": {},
   "source": [
    "<h3>Softmax using vectorization</h3>"
   ]
  },
  {
   "cell_type": "code",
   "execution_count": 28,
   "id": "22160151-559e-431a-856c-bb8368dfeb27",
   "metadata": {},
   "outputs": [],
   "source": [
    "def softmax2(x):\n",
    "    x = np.exp(x)\n",
    "    x = x/np.sum(x, axis=1, keepdims=True)\n",
    "    return x"
   ]
  },
  {
   "cell_type": "code",
   "execution_count": 30,
   "id": "1d11a388-0221-4b8e-ad04-f2d62e6833e1",
   "metadata": {},
   "outputs": [
    {
     "name": "stdout",
     "output_type": "stream",
     "text": [
      "softmax1(x) = [[9.80897665e-01 8.94462891e-04 1.79657674e-02 1.21052389e-04\n",
      "  1.21052389e-04]\n",
      " [8.78679856e-01 1.18916387e-01 8.01252314e-04 8.01252314e-04\n",
      "  8.01252314e-04]]\n",
      "softmax2(x) = [[9.80897665e-01 8.94462891e-04 1.79657674e-02 1.21052389e-04\n",
      "  1.21052389e-04]\n",
      " [8.78679856e-01 1.18916387e-01 8.01252314e-04 8.01252314e-04\n",
      "  8.01252314e-04]]\n"
     ]
    },
    {
     "name": "stderr",
     "output_type": "stream",
     "text": [
      "C:\\Users\\ASUS\\AppData\\Local\\Temp\\ipykernel_12712\\419620758.py:10: DeprecationWarning: Conversion of an array with ndim > 0 to a scalar is deprecated, and will error in future. Ensure you extract a single element from your array before performing this operation. (Deprecated NumPy 1.25.)\n",
      "  soft_x[i][j] = np.exp(x[i][j])/sum_rows[i]\n"
     ]
    }
   ],
   "source": [
    "t_x = np.array([[9, 2, 5, 0, 0],\n",
    "                [7, 5, 0, 0 ,0]])\n",
    "print(\"softmax1(x) = \" + str(softmax1(t_x)))\n",
    "print(\"softmax2(x) = \" + str(softmax2(t_x)))"
   ]
  },
  {
   "cell_type": "code",
   "execution_count": null,
   "id": "531207b6-d06a-4a07-9aaa-b5e648b1408b",
   "metadata": {},
   "outputs": [],
   "source": []
  }
 ],
 "metadata": {
  "kernelspec": {
   "display_name": "Python 3 (ipykernel)",
   "language": "python",
   "name": "python3"
  },
  "language_info": {
   "codemirror_mode": {
    "name": "ipython",
    "version": 3
   },
   "file_extension": ".py",
   "mimetype": "text/x-python",
   "name": "python",
   "nbconvert_exporter": "python",
   "pygments_lexer": "ipython3",
   "version": "3.12.1"
  }
 },
 "nbformat": 4,
 "nbformat_minor": 5
}
